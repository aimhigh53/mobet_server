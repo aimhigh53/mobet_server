{
 "cells": [
  {
   "cell_type": "code",
   "execution_count": 5,
   "metadata": {},
   "outputs": [],
   "source": [
    "import pandas as pd\n",
    "import numpy as np\n",
    "import matplotlib.pyplot as plt\n",
    "from collections import deque\n",
    "import operator\n",
    "import plotly\n",
    "from datetime import datetime\n",
    "import datetime\n",
    "from pandas import DataFrame as df\n",
    "from pandas import Series\n",
    "from collections import Counter\n",
    "\n",
    "data1=pd.read_csv(\"./userRank.csv\")\n",
    "data2=pd.read_csv(\"./competitionSet.csv\")\n",
    "data3=pd.read_csv(\"./userGameGrade.csv\")\n",
    "data4=pd.read_csv(\"./categoryCode.csv\")\n",
    "data5=pd.read_csv(\"./rankTable.csv\")\n",
    "data6=pd.read_csv(\"./User.csv\")\n",
    "data7=pd.read_csv(\"./Relationship.csv\")\n",
    "data8=pd.read_csv(\"./financeInfo.csv\") \n",
    "data9=pd.read_csv(\"./participatedList.csv\") "
   ]
  },
  {
   "cell_type": "code",
   "execution_count": 4,
   "metadata": {},
   "outputs": [],
   "source": [
    "# #남은 금액\n",
    "\n",
    "# thisplayer=int(input())\n",
    "\n",
    "# now =datetime.datetime.now()\n",
    "# print(now)\n",
    "\n",
    "\n",
    "# data8[data8[\"_ID\"]==thisplayer]\n",
    "\n",
    "# #paymenttime기준으로 끊어서\n",
    "# #FI--->thisPlayer\n",
    "\n",
    "# #방번호,카테고리리스트\n",
    "# rmNumList=[]\n",
    "# cgList=[]\n",
    "\n",
    "# for i in data9[data9['_ID']==thisplayer][\"ROOMNUM_ID\"]:\n",
    "#     rmNumList.append(i)\n",
    "\n",
    "# rmNumList\n",
    "\n",
    "\n",
    "# rmNumList\n"
   ]
  },
  {
   "cell_type": "code",
   "execution_count": 3,
   "metadata": {},
   "outputs": [],
   "source": [
    "# for i in range(len(rmNumList)):\n",
    "#     cgList.append(data2.loc[rmNumList[i]-1,'CATEGORYCODE'])\n"
   ]
  },
  {
   "cell_type": "code",
   "execution_count": 7,
   "metadata": {},
   "outputs": [
    {
     "ename": "NameError",
     "evalue": "name 'thisPlayer' is not defined",
     "output_type": "error",
     "traceback": [
      "\u001b[0;31m---------------------------------------------------------------------------\u001b[0m",
      "\u001b[0;31mNameError\u001b[0m                                 Traceback (most recent call last)",
      "\u001b[0;32m<ipython-input-7-105e5c6a2ec3>\u001b[0m in \u001b[0;36m<module>\u001b[0;34m\u001b[0m\n\u001b[1;32m     20\u001b[0m \u001b[0;34m\u001b[0m\u001b[0m\n\u001b[1;32m     21\u001b[0m \u001b[0;34m\u001b[0m\u001b[0m\n\u001b[0;32m---> 22\u001b[0;31m \u001b[0mdf\u001b[0m\u001b[0;34m=\u001b[0m\u001b[0mdata8\u001b[0m\u001b[0;34m[\u001b[0m\u001b[0mdata8\u001b[0m\u001b[0;34m[\u001b[0m\u001b[0;34m\"_ID\"\u001b[0m\u001b[0;34m]\u001b[0m\u001b[0;34m==\u001b[0m\u001b[0mthisPlayer\u001b[0m\u001b[0;34m]\u001b[0m\u001b[0;34m\u001b[0m\u001b[0;34m\u001b[0m\u001b[0m\n\u001b[0m\u001b[1;32m     23\u001b[0m \u001b[0;34m\u001b[0m\u001b[0m\n\u001b[1;32m     24\u001b[0m \u001b[0;34m\u001b[0m\u001b[0m\n",
      "\u001b[0;31mNameError\u001b[0m: name 'thisPlayer' is not defined"
     ]
    }
   ],
   "source": [
    "# #thisplayer의 timelog를 들고온다\n",
    "# thisplayer=int(input())\n",
    "\n",
    "# lessTimeLog=str(data6.loc[thisplayer,'TIMELOG'])\n",
    "\n",
    "# nowTimeLog=str(datetime.datetime.now())\n",
    "\n",
    "\n",
    "\n",
    "# #paymenttime기준으로 끊어서\n",
    "# #FI--->thisPlayer\n",
    "\n",
    "# #방번호,카테고리리스트\n",
    "# rmNumList=[]\n",
    "# cgList=[]\n",
    "\n",
    "# for i in data9[data9['_ID']==thisplayer][\"ROOMNUM_ID\"]:\n",
    "#     rmNumList.append(i)\n",
    "\n",
    "    \n",
    "\n",
    "df=data8[data8[\"_ID\"]==thisPlayer]\n",
    "\n",
    "\n",
    "\n"
   ]
  },
  {
   "cell_type": "code",
   "execution_count": 6,
   "metadata": {},
   "outputs": [
    {
     "name": "stdout",
     "output_type": "stream",
     "text": [
      "4\n",
      "{}\n",
      "13     1\n",
      "9      3\n",
      "4      4\n",
      "12     5\n",
      "6     11\n",
      "10    12\n",
      "3     13\n",
      "1     16\n",
      "5     17\n",
      "12    21\n",
      "12    34\n",
      "dtype: int64\n"
     ]
    }
   ],
   "source": [
    "#dictionary version\n",
    "\n",
    "#현재 플레이어 id\n",
    "thisPlayer=int(input())\n",
    "\n",
    "#마킹되어있는 시간 불러오기\n",
    "lessTimeLog=str(data6.loc[thisPlayer,'TIMELOG'])\n",
    "\n",
    "#현재 시간\n",
    "nowTimeLog=str(datetime.datetime.now())\n",
    "\n",
    "#paymenttime기준으로 끊어서\n",
    "#FI--->thisPlayer\n",
    "\n",
    "#차례대로 방번호,카테고리리스트,마킹시간이후 가져온 데이터,받아온 데이터에서 소비금액을 카테고리별로 분류할 딕셔너리\n",
    "rmNumList=[]\n",
    "cgList=[]\n",
    "afterTimedf=[]\n",
    "thisPlayerMoneyDic={0:0,1:0,2:0,3:0,4:0,5:0,6:0,7:0,8:0,9:0,10:0,11:0,12:0}\n",
    "\n",
    "df=data8[data8[\"_ID\"]==thisPlayer]\n",
    "\n",
    "#마킹시간이후의 데이터를 받아오는 작업\n",
    "for i in df['PAYMENTTIME']:\n",
    "    if i>lessTimeLog:\n",
    "        afterTimedf.append(data8[data8['PAYMENTTIME']==i])\n",
    "        \n",
    "#해당플레이어가 플레이한 룸넘버        \n",
    "for i in data9[data9['_ID']==thisPlayer][\"ROOMNUM_ID\"]:\n",
    "    rmNumList.append(i)        \n",
    "        \n",
    "#해당플레이어가 플레이한 카테고리리스트\n",
    "for i in range(len(rmNumList)):\n",
    "    cgList.append(data2.loc[rmNumList[i]-1,'CATEGORYCODE'])\n",
    "    \n",
    "#룸넘버와 카테고리리스트를 시리즈화한것 ,*vT-->virtualTable   \n",
    "vT=Series(rmNumList,cgList)\n",
    "#플레이어의 카테고리리스트에서 중복을 제거하기 위함\n",
    "playerCategorySet=set()\n",
    "\n",
    "#thipPlayerMoneyDic에 돈을 기록하기 위한 dictionary\n",
    "setMoney={}\n",
    "\n",
    "\n",
    "for i in vT.index:\n",
    "    for j in range(len(afterTimedf)):\n",
    "        if i==int(afterTimedf[j]['CATEGORYCODE']):\n",
    "            tmp={i:int(afterTimedf[j]['PAYMENTPRICE'])}\n",
    "            playerCategorySet.add(i)\n",
    "            setMoney=Counter(setMoney)+Counter(tmp)\n",
    "            thisPlayerMoneyDic.update(setMoney)\n",
    "\n",
    "\n",
    "playerCategoryList=list(playerCategorySet)\n",
    "\n",
    "print(setMoney)\n",
    "print(vT)\n",
    "\n",
    "#얘를 set으로 만든 뒤\n",
    "checkDupList=list(set(vT[vT.groupby(level=0).count()>1].index))\n",
    "#다시 리스트화 해서\n",
    "\n",
    "#j가 리스트에 있는지,, j in list\n",
    "#있으면 인덱스넣고 반환되는 values(룸)에다가 다 값을 반영해주도록 \n",
    "\n",
    "#중복문제 발생..!\n",
    "for i in data9[data9['_ID']==thisPlayer]['ROOMNUM_ID']:\n",
    "    for j in playerCategoryList:\n",
    "        ##여기부분\n",
    "        \n",
    "        #반복을 너무 많이하는데 그 문제를 해결하면 완료!\n",
    "              #얘를 i반복문에서 빠져서 이를 따로 반복한다. 그냥 이조건을 만족시킬시에 통과하도록하고,,,\n",
    "            \n",
    "        if j==0:\n",
    "            forAllSum=0\n",
    "            for i in thisPlayerMoneyDic.values():\n",
    "                forAllSum=forAllSum+i\n",
    "                \n",
    "            leftMoney=int(data9.loc[(data9['_ID']==thisPlayer) &(data9['ROOMNUM_ID']==i)]['LEFTMONEY'])-thisPlayerMoneyDic[j]\n",
    "            \n",
    "        \n",
    "        elif j in checkDupList:\n",
    "            continue\n",
    "            \n",
    "            \n",
    "        elif i==vT[j]:\n",
    "            leftMoney=int(data9.loc[(data9['_ID']==thisPlayer) &(data9['ROOMNUM_ID']==i)]['LEFTMONEY'])-thisPlayerMoneyDic[j]\n",
    "            print(leftMoney)\n",
    "\n",
    "            \n",
    "            \n",
    "for j in playerCategoryList:\n",
    "    if j in checkDupList:\n",
    "        for k in vT[j].values:\n",
    "            print(k)\n",
    "            leftMoney=int(data9.loc[(data9['_ID']==thisPlayer) &(data9['ROOMNUM_ID']==k)]['LEFTMONEY'])-thisPlayerMoneyDic[j]\n",
    "            print(leftMoney)\n",
    "            \n",
    "            \n",
    "            \n",
    "#위에서 반복 여러번 된거를 해결하면됨~~~~~~!!!!            \n",
    "#              if j in checkDupList:\n",
    "#             continue\n",
    "#             for k in vT[j].values:\n",
    "#                 print(k)\n",
    "#                 leftMoney=int(data9.loc[(data9['_ID']==thisPlayer) &(data9['ROOMNUM_ID']==k)]['LEFTMONEY'])-thisPlayerMoneyDic[j]  \n",
    "            \n",
    "            \n",
    "# print(vT[vT.groupby(level=0).count()>1].values)\n",
    "\n",
    "# print(vT)\n"
   ]
  },
  {
   "cell_type": "code",
   "execution_count": 8,
   "metadata": {},
   "outputs": [
    {
     "ename": "AttributeError",
     "evalue": "'list' object has no attribute 'groupby'",
     "output_type": "error",
     "traceback": [
      "\u001b[0;31m---------------------------------------------------------------------------\u001b[0m",
      "\u001b[0;31mAttributeError\u001b[0m                            Traceback (most recent call last)",
      "\u001b[0;32m<ipython-input-8-3389f3215051>\u001b[0m in \u001b[0;36m<module>\u001b[0;34m\u001b[0m\n\u001b[0;32m----> 1\u001b[0;31m \u001b[0mcheckDupList\u001b[0m\u001b[0;34m=\u001b[0m\u001b[0mlist\u001b[0m\u001b[0;34m(\u001b[0m\u001b[0mset\u001b[0m\u001b[0;34m(\u001b[0m\u001b[0mcgList\u001b[0m\u001b[0;34m[\u001b[0m\u001b[0mcgList\u001b[0m\u001b[0;34m.\u001b[0m\u001b[0mgroupby\u001b[0m\u001b[0;34m(\u001b[0m\u001b[0mlevel\u001b[0m\u001b[0;34m=\u001b[0m\u001b[0;36m0\u001b[0m\u001b[0;34m)\u001b[0m\u001b[0;34m.\u001b[0m\u001b[0mcount\u001b[0m\u001b[0;34m(\u001b[0m\u001b[0;34m)\u001b[0m\u001b[0;34m>\u001b[0m\u001b[0;36m1\u001b[0m\u001b[0;34m]\u001b[0m\u001b[0;34m.\u001b[0m\u001b[0mindex\u001b[0m\u001b[0;34m)\u001b[0m\u001b[0;34m)\u001b[0m\u001b[0;34m\u001b[0m\u001b[0;34m\u001b[0m\u001b[0m\n\u001b[0m",
      "\u001b[0;31mAttributeError\u001b[0m: 'list' object has no attribute 'groupby'"
     ]
    }
   ],
   "source": [
    "checkDupList=list(set(cgList[cgList.groupby(level=0).count()>1].index))"
   ]
  },
  {
   "cell_type": "code",
   "execution_count": null,
   "metadata": {},
   "outputs": [],
   "source": [
    "#id,categorycode,roomnumlist 가상테이블 생성\n",
    "#virtualTable=df(data={'CATEGORYCODE':cgList,'ROOMNUM_ID':rmNumList},columns=['CATEGORYCODE','ROOMNUM_ID'])\n",
    "\n",
    "#financeinfo에서 price들고가서\n",
    "#virtualTable통해서\n",
    "#participatedList에 leftmoney에 접근해서 갱신\n",
    "\n",
    "vT=Series(rmNumList,cgList)\n",
    "thisPlayertp=[]\n",
    "\n",
    "for i in vT.index:\n",
    "    for j in range(len(afterTimedf)):\n",
    "        if i==int(afterTimedf[j]['CATEGORYCODE']):\n",
    "            thisPlayertp.append((i,int(afterTimedf[j]['PAYMENTPRICE'])))\n",
    "            \n"
   ]
  },
  {
   "cell_type": "code",
   "execution_count": 6,
   "metadata": {},
   "outputs": [
    {
     "data": {
      "text/plain": [
       "[12]"
      ]
     },
     "execution_count": 6,
     "metadata": {},
     "output_type": "execute_result"
    }
   ],
   "source": [
    "# vT=Series(rmNumList,cgList)\n",
    "# vT.values\n",
    "# vT.indedata9\n",
    "checkDupList"
   ]
  },
  {
   "cell_type": "code",
   "execution_count": 5,
   "metadata": {},
   "outputs": [
    {
     "ename": "NameError",
     "evalue": "name 'playerCategoryList' is not defined",
     "output_type": "error",
     "traceback": [
      "\u001b[0;31m---------------------------------------------------------------------------\u001b[0m",
      "\u001b[0;31mNameError\u001b[0m                                 Traceback (most recent call last)",
      "\u001b[0;32m<ipython-input-5-941d09f52315>\u001b[0m in \u001b[0;36m<module>\u001b[0;34m\u001b[0m\n\u001b[0;32m----> 1\u001b[0;31m \u001b[0mplayerCategoryList\u001b[0m\u001b[0;34m\u001b[0m\u001b[0;34m\u001b[0m\u001b[0m\n\u001b[0m\u001b[1;32m      2\u001b[0m \u001b[0mvT\u001b[0m\u001b[0;34m[\u001b[0m\u001b[0;36m12\u001b[0m\u001b[0;34m]\u001b[0m\u001b[0;34m.\u001b[0m\u001b[0mvalues\u001b[0m\u001b[0;34m\u001b[0m\u001b[0;34m\u001b[0m\u001b[0m\n\u001b[1;32m      3\u001b[0m \u001b[0;34m\u001b[0m\u001b[0m\n\u001b[1;32m      4\u001b[0m \u001b[0mdata9\u001b[0m\u001b[0;34m[\u001b[0m\u001b[0;32mTrue\u001b[0m\u001b[0;34m]\u001b[0m\u001b[0;34m\u001b[0m\u001b[0;34m\u001b[0m\u001b[0m\n",
      "\u001b[0;31mNameError\u001b[0m: name 'playerCategoryList' is not defined"
     ]
    }
   ],
   "source": [
    "playerCategoryList\n",
    "vT[12].values\n",
    "\n",
    "data9[True]"
   ]
  },
  {
   "cell_type": "code",
   "execution_count": 1,
   "metadata": {},
   "outputs": [
    {
     "ename": "NameError",
     "evalue": "name 'vT' is not defined",
     "output_type": "error",
     "traceback": [
      "\u001b[0;31m---------------------------------------------------------------------------\u001b[0m",
      "\u001b[0;31mNameError\u001b[0m                                 Traceback (most recent call last)",
      "\u001b[0;32m<ipython-input-1-4a14bda61ea0>\u001b[0m in \u001b[0;36m<module>\u001b[0;34m\u001b[0m\n\u001b[0;32m----> 1\u001b[0;31m \u001b[0mprint\u001b[0m\u001b[0;34m(\u001b[0m\u001b[0mlen\u001b[0m\u001b[0;34m(\u001b[0m\u001b[0mvT\u001b[0m\u001b[0;34m[\u001b[0m\u001b[0mvT\u001b[0m\u001b[0;34m.\u001b[0m\u001b[0mgroupby\u001b[0m\u001b[0;34m(\u001b[0m\u001b[0mlevel\u001b[0m\u001b[0;34m=\u001b[0m\u001b[0;36m0\u001b[0m\u001b[0;34m)\u001b[0m\u001b[0;34m.\u001b[0m\u001b[0mcount\u001b[0m\u001b[0;34m(\u001b[0m\u001b[0;34m)\u001b[0m\u001b[0;34m>\u001b[0m\u001b[0;36m1\u001b[0m\u001b[0;34m]\u001b[0m\u001b[0;34m.\u001b[0m\u001b[0mindex\u001b[0m\u001b[0;34m)\u001b[0m\u001b[0;34m)\u001b[0m\u001b[0;34m\u001b[0m\u001b[0;34m\u001b[0m\u001b[0m\n\u001b[0m\u001b[1;32m      2\u001b[0m \u001b[0mlist\u001b[0m\u001b[0;34m(\u001b[0m\u001b[0mset\u001b[0m\u001b[0;34m(\u001b[0m\u001b[0mvT\u001b[0m\u001b[0;34m[\u001b[0m\u001b[0mvT\u001b[0m\u001b[0;34m.\u001b[0m\u001b[0mgroupby\u001b[0m\u001b[0;34m(\u001b[0m\u001b[0mlevel\u001b[0m\u001b[0;34m=\u001b[0m\u001b[0;36m0\u001b[0m\u001b[0;34m)\u001b[0m\u001b[0;34m.\u001b[0m\u001b[0mcount\u001b[0m\u001b[0;34m(\u001b[0m\u001b[0;34m)\u001b[0m\u001b[0;34m>\u001b[0m\u001b[0;36m1\u001b[0m\u001b[0;34m]\u001b[0m\u001b[0;34m.\u001b[0m\u001b[0mindex\u001b[0m\u001b[0;34m)\u001b[0m\u001b[0;34m)\u001b[0m\u001b[0;34m\u001b[0m\u001b[0;34m\u001b[0m\u001b[0m\n\u001b[1;32m      3\u001b[0m \u001b[0;34m\u001b[0m\u001b[0m\n\u001b[1;32m      4\u001b[0m \u001b[0;31m# tt=0\u001b[0m\u001b[0;34m\u001b[0m\u001b[0;34m\u001b[0m\u001b[0;34m\u001b[0m\u001b[0m\n\u001b[1;32m      5\u001b[0m \u001b[0;31m# for i in vT[vT.groupby(level=0).count()>1]:\u001b[0m\u001b[0;34m\u001b[0m\u001b[0;34m\u001b[0m\u001b[0;34m\u001b[0m\u001b[0m\n",
      "\u001b[0;31mNameError\u001b[0m: name 'vT' is not defined"
     ]
    }
   ],
   "source": [
    "print(len(vT[vT.groupby(level=0).count()>1].index))\n",
    "list(set(vT[vT.groupby(level=0).count()>1].index))\n",
    "\n",
    "# tt=0\n",
    "# for i in vT[vT.groupby(level=0).count()>1]:\n",
    "#     tt=tt+i\n",
    "data8"
   ]
  },
  {
   "cell_type": "code",
   "execution_count": 153,
   "metadata": {},
   "outputs": [],
   "source": [
    "duplicatedCode=set(vT[vT.groupby(level=0).count()>1].index)"
   ]
  },
  {
   "cell_type": "code",
   "execution_count": 171,
   "metadata": {},
   "outputs": [],
   "source": [
    "if duplicatedCode is not None:\n",
    "    for i in duplicatedCode:\n",
    "        getDuplicatedRoomNum=vT[i].values\n",
    "        \n",
    "    "
   ]
  },
  {
   "cell_type": "code",
   "execution_count": 13,
   "metadata": {},
   "outputs": [
    {
     "ename": "TypeError",
     "evalue": "You have to supply one of 'by' and 'level'",
     "output_type": "error",
     "traceback": [
      "\u001b[0;31m---------------------------------------------------------------------------\u001b[0m",
      "\u001b[0;31mTypeError\u001b[0m                                 Traceback (most recent call last)",
      "\u001b[0;32m<ipython-input-13-6b4d81ff915e>\u001b[0m in \u001b[0;36m<module>\u001b[0;34m\u001b[0m\n\u001b[1;32m     15\u001b[0m \u001b[0mdic\u001b[0m\u001b[0;34m[\u001b[0m\u001b[0;36m4\u001b[0m\u001b[0;34m]\u001b[0m\u001b[0;34m=\u001b[0m\u001b[0;36m2\u001b[0m\u001b[0;34m\u001b[0m\u001b[0;34m\u001b[0m\u001b[0m\n\u001b[1;32m     16\u001b[0m \u001b[0mcheckDupList\u001b[0m\u001b[0;34m=\u001b[0m\u001b[0mlist\u001b[0m\u001b[0;34m(\u001b[0m\u001b[0mset\u001b[0m\u001b[0;34m(\u001b[0m\u001b[0mvT\u001b[0m\u001b[0;34m[\u001b[0m\u001b[0mvT\u001b[0m\u001b[0;34m.\u001b[0m\u001b[0mgroupby\u001b[0m\u001b[0;34m(\u001b[0m\u001b[0mlevel\u001b[0m\u001b[0;34m=\u001b[0m\u001b[0;36m0\u001b[0m\u001b[0;34m)\u001b[0m\u001b[0;34m.\u001b[0m\u001b[0mcount\u001b[0m\u001b[0;34m(\u001b[0m\u001b[0;34m)\u001b[0m\u001b[0;34m>\u001b[0m\u001b[0;36m1\u001b[0m\u001b[0;34m]\u001b[0m\u001b[0;34m.\u001b[0m\u001b[0mindex\u001b[0m\u001b[0;34m)\u001b[0m\u001b[0;34m)\u001b[0m\u001b[0;34m\u001b[0m\u001b[0;34m\u001b[0m\u001b[0m\n\u001b[0;32m---> 17\u001b[0;31m \u001b[0mdata2\u001b[0m\u001b[0;34m.\u001b[0m\u001b[0mgroupby\u001b[0m\u001b[0;34m(\u001b[0m\u001b[0;34m)\u001b[0m\u001b[0;34m\u001b[0m\u001b[0;34m\u001b[0m\u001b[0m\n\u001b[0m",
      "\u001b[0;32m/Library/Frameworks/Python.framework/Versions/3.7/lib/python3.7/site-packages/pandas/core/generic.py\u001b[0m in \u001b[0;36mgroupby\u001b[0;34m(self, by, axis, level, as_index, sort, group_keys, squeeze, observed, **kwargs)\u001b[0m\n\u001b[1;32m   7626\u001b[0m \u001b[0;34m\u001b[0m\u001b[0m\n\u001b[1;32m   7627\u001b[0m         \u001b[0;32mif\u001b[0m \u001b[0mlevel\u001b[0m \u001b[0;32mis\u001b[0m \u001b[0;32mNone\u001b[0m \u001b[0;32mand\u001b[0m \u001b[0mby\u001b[0m \u001b[0;32mis\u001b[0m \u001b[0;32mNone\u001b[0m\u001b[0;34m:\u001b[0m\u001b[0;34m\u001b[0m\u001b[0;34m\u001b[0m\u001b[0m\n\u001b[0;32m-> 7628\u001b[0;31m             \u001b[0;32mraise\u001b[0m \u001b[0mTypeError\u001b[0m\u001b[0;34m(\u001b[0m\u001b[0;34m\"You have to supply one of 'by' and 'level'\"\u001b[0m\u001b[0;34m)\u001b[0m\u001b[0;34m\u001b[0m\u001b[0;34m\u001b[0m\u001b[0m\n\u001b[0m\u001b[1;32m   7629\u001b[0m         \u001b[0maxis\u001b[0m \u001b[0;34m=\u001b[0m \u001b[0mself\u001b[0m\u001b[0;34m.\u001b[0m\u001b[0m_get_axis_number\u001b[0m\u001b[0;34m(\u001b[0m\u001b[0maxis\u001b[0m\u001b[0;34m)\u001b[0m\u001b[0;34m\u001b[0m\u001b[0;34m\u001b[0m\u001b[0m\n\u001b[1;32m   7630\u001b[0m         return groupby(self, by=by, axis=axis, level=level, as_index=as_index,\n",
      "\u001b[0;31mTypeError\u001b[0m: You have to supply one of 'by' and 'level'"
     ]
    }
   ],
   "source": [
    "\n",
    "\n",
    "#중복으로 값이 반영되어야할 방 숫자 추출\n",
    "\n",
    "\n",
    "\n",
    "dic={}\n",
    "dic[2]=3\n",
    "dic[4]=2\n",
    "checkDupList=list(set(vT[vT.groupby(level=0).count()>1].index))\n",
    "data2.groupby()"
   ]
  },
  {
   "cell_type": "code",
   "execution_count": 138,
   "metadata": {},
   "outputs": [],
   "source": [
    "arr=[1,2,2,3,3,3,4,4,4,4,5,5,5,5,5]\n",
    "arr2=[1,2,3,4,5,6,7,8,9,0,1,2,3,4,5]\n",
    "\n",
    "ss=Series(arr2,index=arr)"
   ]
  },
  {
   "cell_type": "code",
   "execution_count": 151,
   "metadata": {},
   "outputs": [],
   "source": [
    "s=set(ss[ss.groupby(level=0).count()>1].index)"
   ]
  },
  {
   "cell_type": "code",
   "execution_count": 204,
   "metadata": {},
   "outputs": [],
   "source": [
    "p={1:2}"
   ]
  },
  {
   "cell_type": "code",
   "execution_count": 3,
   "metadata": {},
   "outputs": [
    {
     "data": {
      "text/plain": [
       "Int64Index([13, 9, 4, 12, 6, 10, 3, 1, 5, 12, 12], dtype='int64')"
      ]
     },
     "execution_count": 3,
     "metadata": {},
     "output_type": "execute_result"
    }
   ],
   "source": [
    "\n",
    "vT.index"
   ]
  }
 ],
 "metadata": {
  "kernelspec": {
   "display_name": "Python 3",
   "language": "python",
   "name": "python3"
  },
  "language_info": {
   "codemirror_mode": {
    "name": "ipython",
    "version": 3
   },
   "file_extension": ".py",
   "mimetype": "text/x-python",
   "name": "python",
   "nbconvert_exporter": "python",
   "pygments_lexer": "ipython3",
   "version": "3.7.2"
  }
 },
 "nbformat": 4,
 "nbformat_minor": 4
}
